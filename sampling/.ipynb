{
 "cells": [
  {
   "cell_type": "code",
   "execution_count": 1,
   "metadata": {},
   "outputs": [],
   "source": [
    "import pandas as pd"
   ]
  },
  {
   "cell_type": "code",
   "execution_count": 2,
   "metadata": {},
   "outputs": [],
   "source": [
    "import xlrd as xl"
   ]
  },
  {
   "cell_type": "code",
   "execution_count": 3,
   "metadata": {},
   "outputs": [],
   "source": [
    "import numpy as np"
   ]
  },
  {
   "cell_type": "code",
   "execution_count": 4,
   "metadata": {},
   "outputs": [],
   "source": [
    "import matplotlib.pyplot as plt"
   ]
  },
  {
   "cell_type": "code",
   "execution_count": 5,
   "metadata": {},
   "outputs": [],
   "source": [
    "import platform\n",
    "\n",
    "from matplotlib import font_manager, rc\n",
    "plt.rcParams['axes.unicode_minus'] = False\n",
    "\n",
    "if platform.system() == 'Darwin':\n",
    "    rc('font', family='AppleGothic')\n",
    "elif platform.system() == 'Windows':\n",
    "    path = \"c:/Windows/Fonts/malgun.ttf\"\n",
    "    font_name = font_manager.FontProperties(fname=path).get_name()\n",
    "    rc('font', family=font_name)\n",
    "else:\n",
    "    print('Unknown system... sorry~~~~') "
   ]
  },
  {
   "cell_type": "code",
   "execution_count": 6,
   "metadata": {},
   "outputs": [],
   "source": [
    "sample=pd.read_excel('샘플링.xlsx')"
   ]
  },
  {
   "cell_type": "code",
   "execution_count": 7,
   "metadata": {},
   "outputs": [
    {
     "data": {
      "text/html": [
       "<div>\n",
       "<style scoped>\n",
       "    .dataframe tbody tr th:only-of-type {\n",
       "        vertical-align: middle;\n",
       "    }\n",
       "\n",
       "    .dataframe tbody tr th {\n",
       "        vertical-align: top;\n",
       "    }\n",
       "\n",
       "    .dataframe thead th {\n",
       "        text-align: right;\n",
       "    }\n",
       "</style>\n",
       "<table border=\"1\" class=\"dataframe\">\n",
       "  <thead>\n",
       "    <tr style=\"text-align: right;\">\n",
       "      <th></th>\n",
       "      <th>Store</th>\n",
       "      <th>Assortment</th>\n",
       "      <th>Sales(EUR)</th>\n",
       "      <th>개월수</th>\n",
       "      <th>월별 매출</th>\n",
       "      <th>CompetitionDistance(M)</th>\n",
       "      <th>CompetitionOpenSinceYear</th>\n",
       "      <th>중도 경쟁사 open</th>\n",
       "    </tr>\n",
       "  </thead>\n",
       "  <tbody>\n",
       "    <tr>\n",
       "      <th>0</th>\n",
       "      <td>1</td>\n",
       "      <td>a</td>\n",
       "      <td>3716854</td>\n",
       "      <td>31</td>\n",
       "      <td>119898.516129</td>\n",
       "      <td>1270</td>\n",
       "      <td>2008.0</td>\n",
       "      <td>NaN</td>\n",
       "    </tr>\n",
       "    <tr>\n",
       "      <th>1</th>\n",
       "      <td>2</td>\n",
       "      <td>a</td>\n",
       "      <td>3883858</td>\n",
       "      <td>31</td>\n",
       "      <td>125285.741935</td>\n",
       "      <td>570</td>\n",
       "      <td>2007.0</td>\n",
       "      <td>NaN</td>\n",
       "    </tr>\n",
       "    <tr>\n",
       "      <th>2</th>\n",
       "      <td>3</td>\n",
       "      <td>a</td>\n",
       "      <td>5408261</td>\n",
       "      <td>31</td>\n",
       "      <td>174460.032258</td>\n",
       "      <td>14130</td>\n",
       "      <td>2006.0</td>\n",
       "      <td>NaN</td>\n",
       "    </tr>\n",
       "    <tr>\n",
       "      <th>3</th>\n",
       "      <td>4</td>\n",
       "      <td>c</td>\n",
       "      <td>7556507</td>\n",
       "      <td>31</td>\n",
       "      <td>243758.290323</td>\n",
       "      <td>620</td>\n",
       "      <td>2009.0</td>\n",
       "      <td>NaN</td>\n",
       "    </tr>\n",
       "    <tr>\n",
       "      <th>4</th>\n",
       "      <td>5</td>\n",
       "      <td>a</td>\n",
       "      <td>3642818</td>\n",
       "      <td>31</td>\n",
       "      <td>117510.258065</td>\n",
       "      <td>29910</td>\n",
       "      <td>2015.0</td>\n",
       "      <td>Y</td>\n",
       "    </tr>\n",
       "  </tbody>\n",
       "</table>\n",
       "</div>"
      ],
      "text/plain": [
       "   Store Assortment  Sales(EUR)  개월수          월별 매출  CompetitionDistance(M)  \\\n",
       "0      1          a     3716854   31  119898.516129                    1270   \n",
       "1      2          a     3883858   31  125285.741935                     570   \n",
       "2      3          a     5408261   31  174460.032258                   14130   \n",
       "3      4          c     7556507   31  243758.290323                     620   \n",
       "4      5          a     3642818   31  117510.258065                   29910   \n",
       "\n",
       "   CompetitionOpenSinceYear 중도 경쟁사 open  \n",
       "0                    2008.0         NaN  \n",
       "1                    2007.0         NaN  \n",
       "2                    2006.0         NaN  \n",
       "3                    2009.0         NaN  \n",
       "4                    2015.0           Y  "
      ]
     },
     "execution_count": 7,
     "metadata": {},
     "output_type": "execute_result"
    }
   ],
   "source": [
    "sample.head()"
   ]
  },
  {
   "cell_type": "code",
   "execution_count": null,
   "metadata": {},
   "outputs": [],
   "source": []
  },
  {
   "cell_type": "markdown",
   "metadata": {},
   "source": [
    "## 매출과 경쟁사 거리의 관계"
   ]
  },
  {
   "cell_type": "code",
   "execution_count": 8,
   "metadata": {},
   "outputs": [
    {
     "data": {
      "text/plain": [
       "array([[1.        , 0.03200163],\n",
       "       [0.03200163, 1.        ]])"
      ]
     },
     "execution_count": 8,
     "metadata": {},
     "output_type": "execute_result"
    }
   ],
   "source": [
    "np.corrcoef(sample[\"월별 매출\"], sample[\"CompetitionDistance(M)\"])"
   ]
  },
  {
   "cell_type": "markdown",
   "metadata": {},
   "source": [
    "#### 관계가 없다."
   ]
  },
  {
   "cell_type": "code",
   "execution_count": 14,
   "metadata": {},
   "outputs": [
    {
     "data": {
      "image/png": "[encoded data removed]",
      "text/plain": [
       "<Figure size 432x432 with 1 Axes>"
      ]
     },
     "metadata": {},
     "output_type": "display_data"
    }
   ],
   "source": [
    "plt.figure(figsize=(6,6))\n",
    "plt.scatter(sample['월별 매출'], sample['CompetitionDistance(M)'], s=50)\n",
    "plt.xlabel('월별 매출')\n",
    "plt.ylabel('CompetitionDistance(M)')\n",
    "plt.title(\"매출과 경쟁사 거리의 상관관계 산점도\")\n",
    "plt.grid()\n",
    "plt.show()"
   ]
  },
  {
   "cell_type": "code",
   "execution_count": null,
   "metadata": {},
   "outputs": [],
   "source": []
  },
  {
   "cell_type": "markdown",
   "metadata": {},
   "source": [
    "## 요일별 매출 관계"
   ]
  },
  {
   "cell_type": "code",
   "execution_count": 15,
   "metadata": {},
   "outputs": [],
   "source": [
    "day=pd.read_excel('store 요일.xlsx')"
   ]
  },
  {
   "cell_type": "code",
   "execution_count": 16,
   "metadata": {},
   "outputs": [
    {
     "data": {
      "text/html": [
       "<div>\n",
       "<style scoped>\n",
       "    .dataframe tbody tr th:only-of-type {\n",
       "        vertical-align: middle;\n",
       "    }\n",
       "\n",
       "    .dataframe tbody tr th {\n",
       "        vertical-align: top;\n",
       "    }\n",
       "\n",
       "    .dataframe thead th {\n",
       "        text-align: right;\n",
       "    }\n",
       "</style>\n",
       "<table border=\"1\" class=\"dataframe\">\n",
       "  <thead>\n",
       "    <tr style=\"text-align: right;\">\n",
       "      <th></th>\n",
       "      <th>Store</th>\n",
       "      <th>요일</th>\n",
       "      <th>DayOfWeek</th>\n",
       "      <th>Sales</th>\n",
       "      <th>영업일수</th>\n",
       "      <th>요일별 매출</th>\n",
       "    </tr>\n",
       "  </thead>\n",
       "  <tbody>\n",
       "    <tr>\n",
       "      <th>0</th>\n",
       "      <td>NaN</td>\n",
       "      <td>월요일 총매출</td>\n",
       "      <td>1</td>\n",
       "      <td>662780</td>\n",
       "      <td>128</td>\n",
       "      <td>5177.968750</td>\n",
       "    </tr>\n",
       "    <tr>\n",
       "      <th>1</th>\n",
       "      <td>NaN</td>\n",
       "      <td>화요일 총매출</td>\n",
       "      <td>2</td>\n",
       "      <td>627874</td>\n",
       "      <td>134</td>\n",
       "      <td>4685.626866</td>\n",
       "    </tr>\n",
       "    <tr>\n",
       "      <th>2</th>\n",
       "      <td>NaN</td>\n",
       "      <td>수요일 총매출</td>\n",
       "      <td>3</td>\n",
       "      <td>601354</td>\n",
       "      <td>132</td>\n",
       "      <td>4555.712121</td>\n",
       "    </tr>\n",
       "    <tr>\n",
       "      <th>3</th>\n",
       "      <td>NaN</td>\n",
       "      <td>목요일 총매출</td>\n",
       "      <td>4</td>\n",
       "      <td>552772</td>\n",
       "      <td>124</td>\n",
       "      <td>4457.838710</td>\n",
       "    </tr>\n",
       "    <tr>\n",
       "      <th>4</th>\n",
       "      <td>NaN</td>\n",
       "      <td>금요일 총매출</td>\n",
       "      <td>5</td>\n",
       "      <td>609716</td>\n",
       "      <td>129</td>\n",
       "      <td>4726.480620</td>\n",
       "    </tr>\n",
       "    <tr>\n",
       "      <th>5</th>\n",
       "      <td>NaN</td>\n",
       "      <td>토요일 총매출</td>\n",
       "      <td>6</td>\n",
       "      <td>662358</td>\n",
       "      <td>134</td>\n",
       "      <td>4942.970149</td>\n",
       "    </tr>\n",
       "  </tbody>\n",
       "</table>\n",
       "</div>"
      ],
      "text/plain": [
       "   Store       요일  DayOfWeek   Sales  영업일수       요일별 매출\n",
       "0    NaN  월요일 총매출          1  662780   128  5177.968750\n",
       "1    NaN  화요일 총매출          2  627874   134  4685.626866\n",
       "2    NaN  수요일 총매출          3  601354   132  4555.712121\n",
       "3    NaN  목요일 총매출          4  552772   124  4457.838710\n",
       "4    NaN  금요일 총매출          5  609716   129  4726.480620\n",
       "5    NaN  토요일 총매출          6  662358   134  4942.970149"
      ]
     },
     "execution_count": 16,
     "metadata": {},
     "output_type": "execute_result"
    }
   ],
   "source": [
    "day"
   ]
  },
  {
   "cell_type": "code",
   "execution_count": 17,
   "metadata": {},
   "outputs": [
    {
     "data": {
      "text/plain": [
       "array([[ 1.        , -0.23311855],\n",
       "       [-0.23311855,  1.        ]])"
      ]
     },
     "execution_count": 17,
     "metadata": {},
     "output_type": "execute_result"
    }
   ],
   "source": [
    "np.corrcoef(day[\"DayOfWeek\"], day[\"요일별 매출\"])"
   ]
  },
  {
   "cell_type": "markdown",
   "metadata": {},
   "source": [
    "#### 약한 상관관계, 하지만 상관관계보다 다른 그래프가 더 좋은 결과를 가져올 것 같다."
   ]
  },
  {
   "cell_type": "code",
   "execution_count": 19,
   "metadata": {},
   "outputs": [
    {
     "data": {
      "image/png": "[encoded data removed]",
      "text/plain": [
       "<Figure size 432x432 with 1 Axes>"
      ]
     },
     "metadata": {},
     "output_type": "display_data"
    }
   ],
   "source": [
    "plt.figure(figsize=(6,6))\n",
    "plt.scatter(day['DayOfWeek'], day['요일별 매출'], s=50)\n",
    "plt.xlabel('DayOfWeek')\n",
    "plt.ylabel('요일별 매출')\n",
    "plt.title(\"요일과 매출의 상관관계 산점도\")\n",
    "plt.grid()\n",
    "plt.show()"
   ]
  },
  {
   "cell_type": "markdown",
   "metadata": {},
   "source": [
    "#### 유의미한 자료를 얻었다."
   ]
  },
  {
   "cell_type": "code",
   "execution_count": 20,
   "metadata": {},
   "outputs": [
    {
     "data": {
      "text/plain": [
       "array([ -32.86586148, 4872.79671784])"
      ]
     },
     "execution_count": 20,
     "metadata": {},
     "output_type": "execute_result"
    }
   ],
   "source": [
    "fp1 = np.polyfit(day['DayOfWeek'], day['요일별 매출'], 1)\n",
    "fp1"
   ]
  },
  {
   "cell_type": "code",
   "execution_count": 21,
   "metadata": {},
   "outputs": [
    {
     "data": {
      "text/plain": [
       "array([  91.75685155, -675.16382234, 5729.19399899])"
      ]
     },
     "execution_count": 21,
     "metadata": {},
     "output_type": "execute_result"
    }
   ],
   "source": [
    "fp1 = np.polyfit(day['DayOfWeek'], day['요일별 매출'], 2)\n",
    "fp1"
   ]
  },
  {
   "cell_type": "markdown",
   "metadata": {},
   "source": [
    "#### 2차함수를 이용하기"
   ]
  },
  {
   "cell_type": "code",
   "execution_count": 22,
   "metadata": {},
   "outputs": [],
   "source": [
    "import scipy as sp"
   ]
  },
  {
   "cell_type": "code",
   "execution_count": 24,
   "metadata": {},
   "outputs": [],
   "source": [
    "x= day['DayOfWeek']\n",
    "y= day['요일별 매출']"
   ]
  },
  {
   "cell_type": "code",
   "execution_count": 26,
   "metadata": {},
   "outputs": [],
   "source": [
    "def error(f,x,y):\n",
    "    return sp.sum((f(x)-y)**2)"
   ]
  },
  {
   "cell_type": "code",
   "execution_count": 25,
   "metadata": {},
   "outputs": [
    {
     "name": "stdout",
     "output_type": "stream",
     "text": [
      "[  91.75685155 -675.16382234 5729.19399899]\n"
     ]
    }
   ],
   "source": [
    "fp=sp.polyfit(x,y,2)\n",
    "print(fp)"
   ]
  },
  {
   "cell_type": "code",
   "execution_count": 29,
   "metadata": {},
   "outputs": [
    {
     "name": "stdout",
     "output_type": "stream",
     "text": [
      "14611.749444006027\n"
     ]
    }
   ],
   "source": [
    "# 2차항 회귀계수 생성\n",
    "fp2=sp.poly1d(fp)\n",
    "print(error(fp2,x,y))"
   ]
  },
  {
   "cell_type": "markdown",
   "metadata": {},
   "source": [
    "#### 2차항 모델 시각화"
   ]
  },
  {
   "cell_type": "code",
   "execution_count": 53,
   "metadata": {},
   "outputs": [],
   "source": [
    "fx=sp.linspace(1,x[5],2000)"
   ]
  },
  {
   "cell_type": "code",
   "execution_count": 54,
   "metadata": {},
   "outputs": [
    {
     "data": {
      "text/plain": [
       "[<matplotlib.lines.Line2D at 0x499ac6da58>]"
      ]
     },
     "execution_count": 54,
     "metadata": {},
     "output_type": "execute_result"
    },
    {
     "data": {
      "image/png": "[encoded data removed]",
      "text/plain": [
       "<Figure size 432x288 with 1 Axes>"
      ]
     },
     "metadata": {},
     "output_type": "display_data"
    }
   ],
   "source": [
    "plt.plot(fx,fp2(fx),linewidth=3)"
   ]
  },
  {
   "cell_type": "markdown",
   "metadata": {},
   "source": [
    "#### 수,목요일은 매출이 급감한다. 월요일 매출이 가장 높다"
   ]
  },
  {
   "cell_type": "code",
   "execution_count": null,
   "metadata": {},
   "outputs": [],
   "source": []
  },
  {
   "cell_type": "code",
   "execution_count": 55,
   "metadata": {},
   "outputs": [],
   "source": [
    "# 프로모션 유무에 따른 매출 차이\n",
    "# 공휴일의 파급효과\n",
    "# 매장 유형에 따른 매출\n",
    "\n",
    "\n",
    "# 경쟁사 오픈 여부에 따른 매출 차이\n",
    "\n",
    "\n",
    "# -> 효과적인 매출 통제 방법 추출 등등"
   ]
  },
  {
   "cell_type": "code",
   "execution_count": null,
   "metadata": {},
   "outputs": [],
   "source": []
  },
  {
   "cell_type": "code",
   "execution_count": null,
   "metadata": {},
   "outputs": [],
   "source": []
  }
 ],
 "metadata": {
  "kernelspec": {
   "display_name": "Python 3",
   "language": "python",
   "name": "python3"
  },
  "language_info": {
   "codemirror_mode": {
    "name": "ipython",
    "version": 3
   },
   "file_extension": ".py",
   "mimetype": "text/x-python",
   "name": "python",
   "nbconvert_exporter": "python",
   "pygments_lexer": "ipython3",
   "version": "3.6.4"
  }
 },
 "nbformat": 4,
 "nbformat_minor": 2
}
